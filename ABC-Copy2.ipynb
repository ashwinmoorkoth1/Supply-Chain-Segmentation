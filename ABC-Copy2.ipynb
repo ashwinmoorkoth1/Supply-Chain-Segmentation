{
 "cells": [
  {
   "cell_type": "markdown",
   "metadata": {},
   "source": [
    "___\n",
    "## ABC Classification\n",
    "\n",
    "The dataset is a dummy dataset which was scaled for analysis.\n",
    "\n",
    "\n",
    "The steps that we will be doing here are :\n",
    "- **Generate the ABC classifcation by Channel, LOB and Category for the products**\n",
    "- **Create coefficient of variation for the products**\n",
    "- **Perform an EDA on the ABC classification**\n",
    "- **Litrature on the application of ABC / coefficient of variation in Supply chain**\n"
   ]
  },
  {
   "cell_type": "code",
   "execution_count": 91,
   "metadata": {},
   "outputs": [],
   "source": [
    "import numpy as np\n",
    "import pandas as pd\n",
    "import os\n",
    "import matplotlib.pyplot as plt\n",
    "import seaborn as sns\n",
    "from datetime import date\n",
    "from datetime import datetime, timedelta\n",
    "%matplotlib inline"
   ]
  },
  {
   "cell_type": "markdown",
   "metadata": {},
   "source": [
    "___\n",
    "### Read in data"
   ]
  },
  {
   "cell_type": "code",
   "execution_count": 92,
   "metadata": {},
   "outputs": [],
   "source": [
    "df = pd.read_csv('Superstore\\salesdata.csv', encoding='latin')"
   ]
  },
  {
   "cell_type": "markdown",
   "metadata": {},
   "source": [
    "___\n",
    "## Exploratory data analysis"
   ]
  },
  {
   "cell_type": "markdown",
   "metadata": {},
   "source": [
    "### The below look into the data show us that this is a sales dataset at - [Channel, Line of business, Category, Product] level"
   ]
  },
  {
   "cell_type": "code",
   "execution_count": 93,
   "metadata": {},
   "outputs": [
    {
     "data": {
      "text/html": [
       "<div>\n",
       "<style scoped>\n",
       "    .dataframe tbody tr th:only-of-type {\n",
       "        vertical-align: middle;\n",
       "    }\n",
       "\n",
       "    .dataframe tbody tr th {\n",
       "        vertical-align: top;\n",
       "    }\n",
       "\n",
       "    .dataframe thead th {\n",
       "        text-align: right;\n",
       "    }\n",
       "</style>\n",
       "<table border=\"1\" class=\"dataframe\">\n",
       "  <thead>\n",
       "    <tr style=\"text-align: right;\">\n",
       "      <th></th>\n",
       "      <th>Channel</th>\n",
       "      <th>LOB</th>\n",
       "      <th>Product</th>\n",
       "      <th>Category</th>\n",
       "      <th>Total Volume Eaches</th>\n",
       "    </tr>\n",
       "  </thead>\n",
       "  <tbody>\n",
       "    <tr>\n",
       "      <th>0</th>\n",
       "      <td>Channel 1</td>\n",
       "      <td>LOB 1</td>\n",
       "      <td>Product 1</td>\n",
       "      <td>Category 1</td>\n",
       "      <td>5921</td>\n",
       "    </tr>\n",
       "    <tr>\n",
       "      <th>1</th>\n",
       "      <td>Channel 1</td>\n",
       "      <td>LOB 2</td>\n",
       "      <td>Product 2</td>\n",
       "      <td>Category 2</td>\n",
       "      <td>2</td>\n",
       "    </tr>\n",
       "    <tr>\n",
       "      <th>2</th>\n",
       "      <td>Channel 1</td>\n",
       "      <td>LOB 2</td>\n",
       "      <td>Product 3</td>\n",
       "      <td>Category 2</td>\n",
       "      <td>3</td>\n",
       "    </tr>\n",
       "    <tr>\n",
       "      <th>3</th>\n",
       "      <td>Channel 1</td>\n",
       "      <td>LOB 2</td>\n",
       "      <td>Product 4</td>\n",
       "      <td>Category 2</td>\n",
       "      <td>1</td>\n",
       "    </tr>\n",
       "    <tr>\n",
       "      <th>4</th>\n",
       "      <td>Channel 1</td>\n",
       "      <td>LOB 2</td>\n",
       "      <td>Product 5</td>\n",
       "      <td>Category 2</td>\n",
       "      <td>1</td>\n",
       "    </tr>\n",
       "  </tbody>\n",
       "</table>\n",
       "</div>"
      ],
      "text/plain": [
       "     Channel    LOB    Product    Category  Total Volume Eaches\n",
       "0  Channel 1  LOB 1  Product 1  Category 1                 5921\n",
       "1  Channel 1  LOB 2  Product 2  Category 2                    2\n",
       "2  Channel 1  LOB 2  Product 3  Category 2                    3\n",
       "3  Channel 1  LOB 2  Product 4  Category 2                    1\n",
       "4  Channel 1  LOB 2  Product 5  Category 2                    1"
      ]
     },
     "execution_count": 93,
     "metadata": {},
     "output_type": "execute_result"
    }
   ],
   "source": [
    "df.head()"
   ]
  },
  {
   "cell_type": "code",
   "execution_count": 94,
   "metadata": {},
   "outputs": [
    {
     "name": "stdout",
     "output_type": "stream",
     "text": [
      "<class 'pandas.core.frame.DataFrame'>\n",
      "RangeIndex: 12699 entries, 0 to 12698\n",
      "Data columns (total 5 columns):\n",
      " #   Column               Non-Null Count  Dtype \n",
      "---  ------               --------------  ----- \n",
      " 0   Channel              12699 non-null  object\n",
      " 1   LOB                  12699 non-null  object\n",
      " 2   Product              12699 non-null  object\n",
      " 3   Category             12699 non-null  object\n",
      " 4   Total Volume Eaches  12699 non-null  int64 \n",
      "dtypes: int64(1), object(4)\n",
      "memory usage: 496.2+ KB\n"
     ]
    }
   ],
   "source": [
    "df.info()"
   ]
  },
  {
   "cell_type": "code",
   "execution_count": 95,
   "metadata": {},
   "outputs": [],
   "source": [
    "df['Total Volume Eaches'] = df['Total Volume Eaches'].astype('float')"
   ]
  },
  {
   "cell_type": "markdown",
   "metadata": {},
   "source": [
    "### The summary statistics of the measure variables (volumes)"
   ]
  },
  {
   "cell_type": "code",
   "execution_count": 96,
   "metadata": {},
   "outputs": [
    {
     "data": {
      "text/html": [
       "<div>\n",
       "<style scoped>\n",
       "    .dataframe tbody tr th:only-of-type {\n",
       "        vertical-align: middle;\n",
       "    }\n",
       "\n",
       "    .dataframe tbody tr th {\n",
       "        vertical-align: top;\n",
       "    }\n",
       "\n",
       "    .dataframe thead th {\n",
       "        text-align: right;\n",
       "    }\n",
       "</style>\n",
       "<table border=\"1\" class=\"dataframe\">\n",
       "  <thead>\n",
       "    <tr style=\"text-align: right;\">\n",
       "      <th></th>\n",
       "      <th>Total Volume Eaches</th>\n",
       "    </tr>\n",
       "  </thead>\n",
       "  <tbody>\n",
       "    <tr>\n",
       "      <th>count</th>\n",
       "      <td>1.269900e+04</td>\n",
       "    </tr>\n",
       "    <tr>\n",
       "      <th>mean</th>\n",
       "      <td>2.529220e+03</td>\n",
       "    </tr>\n",
       "    <tr>\n",
       "      <th>std</th>\n",
       "      <td>3.458955e+04</td>\n",
       "    </tr>\n",
       "    <tr>\n",
       "      <th>min</th>\n",
       "      <td>-4.000000e+01</td>\n",
       "    </tr>\n",
       "    <tr>\n",
       "      <th>25%</th>\n",
       "      <td>1.200000e+01</td>\n",
       "    </tr>\n",
       "    <tr>\n",
       "      <th>50%</th>\n",
       "      <td>6.000000e+01</td>\n",
       "    </tr>\n",
       "    <tr>\n",
       "      <th>75%</th>\n",
       "      <td>3.420000e+02</td>\n",
       "    </tr>\n",
       "    <tr>\n",
       "      <th>max</th>\n",
       "      <td>2.564830e+06</td>\n",
       "    </tr>\n",
       "  </tbody>\n",
       "</table>\n",
       "</div>"
      ],
      "text/plain": [
       "       Total Volume Eaches\n",
       "count         1.269900e+04\n",
       "mean          2.529220e+03\n",
       "std           3.458955e+04\n",
       "min          -4.000000e+01\n",
       "25%           1.200000e+01\n",
       "50%           6.000000e+01\n",
       "75%           3.420000e+02\n",
       "max           2.564830e+06"
      ]
     },
     "execution_count": 96,
     "metadata": {},
     "output_type": "execute_result"
    }
   ],
   "source": [
    "df.describe()"
   ]
  },
  {
   "cell_type": "markdown",
   "metadata": {},
   "source": [
    "### Literature : ABC Classification\n",
    "\n",
    "The ABC classification follows the power law y=ax^k which says Distribution of many phenomena across a population follow a Power Law relationship.\n",
    "\n",
    "These can be seen in from various examples in our daily life\n",
    "Severity of hurricanes and earthquakes\n",
    "* Income within a population (Pareto’s Law)\n",
    "* Visits to websites (Nielsen’s Law) & blogs\n",
    "* Frequency of words in any language (Zipf’s Law)\n",
    "* Frequency of digits within tables (Benford’s Law)\n",
    "* Frequency of authors citations in literature (Lotka’s Law)\n",
    "* Profitability of customers & products\n",
    "* Questions from students in a class\n",
    "\n",
    "> ***The important few versus the trivial many***\n",
    "\n",
    "#### We assume that Company has operations (Supply Network) is divided into channels and each has dedicated infrastructure to manage the demand from the its corresponding area.\n",
    "#### Then with the above information we look at how can we calculate ABC classification of the products of company in each of the Channel, LOB and Category "
   ]
  },
  {
   "cell_type": "code",
   "execution_count": 97,
   "metadata": {},
   "outputs": [
    {
     "data": {
      "text/plain": [
       "Index(['Channel', 'LOB', 'Product', 'Category', 'Total Volume Eaches'], dtype='object')"
      ]
     },
     "execution_count": 97,
     "metadata": {},
     "output_type": "execute_result"
    }
   ],
   "source": [
    "df.columns"
   ]
  },
  {
   "cell_type": "code",
   "execution_count": 98,
   "metadata": {},
   "outputs": [],
   "source": [
    "### For ABC Calculations we only need last 6 months of data"
   ]
  },
  {
   "cell_type": "markdown",
   "metadata": {},
   "source": [
    "### Here we aggregate the data at a ['Region','Category', 'Product ID'] since we have customer order level information."
   ]
  },
  {
   "cell_type": "code",
   "execution_count": 99,
   "metadata": {},
   "outputs": [],
   "source": [
    "abcvol = df.pivot_table(values=['Total Volume Eaches'], index=['Channel', 'LOB', 'Product', 'Category'], aggfunc='sum')\n",
    "abcvol.reset_index(inplace=True)"
   ]
  },
  {
   "cell_type": "markdown",
   "metadata": {},
   "source": [
    "#### The below is a recursive function used to calculate the ABC Class"
   ]
  },
  {
   "cell_type": "code",
   "execution_count": 100,
   "metadata": {},
   "outputs": [],
   "source": [
    "def abcchannel(abcvol, x=0.8, y=0.15, z=.05):\n",
    "    sc=abcvol['Channel'].unique()\n",
    "    for i,j in enumerate(sc):\n",
    "        tempsc = abcvol.loc[abcvol['Channel']==j,]\n",
    "        if (i == 0):\n",
    "            abc1 = abclob(tempsc,x,y,z)\n",
    "        else:\n",
    "            abc1 = pd.concat([abc1, abclob(tempsc,x,y,z)])\n",
    "    return abc1\n",
    "\n",
    "def abclob(abcvol, x=0.8, y=0.15, z=.05):\n",
    "    sc=abcvol['LOB'].unique()\n",
    "    for i,j in enumerate(sc):\n",
    "        tempsc = abcvol.loc[abcvol['LOB']==j,]\n",
    "        if (i == 0):\n",
    "            abc2 = abccategory(tempsc,x,y,z)\n",
    "        else:\n",
    "            abc2 = pd.concat([abc2, abccategory(tempsc,x,y,z)])\n",
    "    return abc2\n",
    "\n",
    "def abccategory(abcvol, x=0.8, y=0.15, z=.05):\n",
    "    sc=abcvol['Category'].unique()\n",
    "    for i,j in enumerate(sc):\n",
    "        tempsc = abcvol.loc[abcvol['Category']==j,]\n",
    "        if (i == 0):\n",
    "            abc3 = abcproduct(tempsc,x,y,z)\n",
    "        else:\n",
    "            abc3 = pd.concat([abc3, abcproduct(tempsc,x,y,z)])\n",
    "    return abc3\n",
    "\n",
    "def abcproduct(abcvol, x=0.8, y=0.15, z=.05):\n",
    "    data = abcvol\n",
    "    data = data.sort_values(by='Total Volume Eaches',ascending=False)\n",
    "    data['CumSum'] = np.cumsum(data['Total Volume Eaches'].sort_values(ascending=False).values)\n",
    "    total = data['Total Volume Eaches'].sum()\n",
    "    count = data.shape[0]\n",
    "    acutoff = x * total\n",
    "    bcutoff = acutoff + (y * total)\n",
    "    ccutoff = bcutoff + (z * total)\n",
    "    data['ABC'] = 'D'\n",
    "    data.loc[(data['CumSum'] <= acutoff) & (data['ABC'] == \"D\"),'ABC'] = \"A\"\n",
    "    data.loc[(data['CumSum'] <= bcutoff) & (data['ABC'] == \"D\"),'ABC'] = \"B\"\n",
    "    data.loc[data['ABC'] == \"D\",'ABC'] = \"C\"\n",
    "    \n",
    "    return data\n"
   ]
  },
  {
   "cell_type": "code",
   "execution_count": 101,
   "metadata": {},
   "outputs": [],
   "source": [
    "abc = abcchannel(abcvol).rename({'CumSum':'Sales Cumulative'}, axis=1).reset_index(drop=True)"
   ]
  },
  {
   "cell_type": "markdown",
   "metadata": {},
   "source": [
    "### View into the generated dataset with the ABC Classification"
   ]
  },
  {
   "cell_type": "code",
   "execution_count": 102,
   "metadata": {},
   "outputs": [
    {
     "data": {
      "text/html": [
       "<div>\n",
       "<style scoped>\n",
       "    .dataframe tbody tr th:only-of-type {\n",
       "        vertical-align: middle;\n",
       "    }\n",
       "\n",
       "    .dataframe tbody tr th {\n",
       "        vertical-align: top;\n",
       "    }\n",
       "\n",
       "    .dataframe thead th {\n",
       "        text-align: right;\n",
       "    }\n",
       "</style>\n",
       "<table border=\"1\" class=\"dataframe\">\n",
       "  <thead>\n",
       "    <tr style=\"text-align: right;\">\n",
       "      <th></th>\n",
       "      <th>Channel</th>\n",
       "      <th>LOB</th>\n",
       "      <th>Product</th>\n",
       "      <th>Category</th>\n",
       "      <th>Total Volume Eaches</th>\n",
       "      <th>Sales Cumulative</th>\n",
       "      <th>ABC</th>\n",
       "    </tr>\n",
       "  </thead>\n",
       "  <tbody>\n",
       "    <tr>\n",
       "      <th>0</th>\n",
       "      <td>Channel 1</td>\n",
       "      <td>LOB 1</td>\n",
       "      <td>Product 1621</td>\n",
       "      <td>Category 1</td>\n",
       "      <td>503197.0</td>\n",
       "      <td>503197.0</td>\n",
       "      <td>A</td>\n",
       "    </tr>\n",
       "    <tr>\n",
       "      <th>1</th>\n",
       "      <td>Channel 1</td>\n",
       "      <td>LOB 1</td>\n",
       "      <td>Product 1433</td>\n",
       "      <td>Category 1</td>\n",
       "      <td>151222.0</td>\n",
       "      <td>654419.0</td>\n",
       "      <td>A</td>\n",
       "    </tr>\n",
       "    <tr>\n",
       "      <th>2</th>\n",
       "      <td>Channel 1</td>\n",
       "      <td>LOB 1</td>\n",
       "      <td>Product 1440</td>\n",
       "      <td>Category 1</td>\n",
       "      <td>108458.0</td>\n",
       "      <td>762877.0</td>\n",
       "      <td>A</td>\n",
       "    </tr>\n",
       "    <tr>\n",
       "      <th>3</th>\n",
       "      <td>Channel 1</td>\n",
       "      <td>LOB 1</td>\n",
       "      <td>Product 143</td>\n",
       "      <td>Category 1</td>\n",
       "      <td>91889.0</td>\n",
       "      <td>854766.0</td>\n",
       "      <td>A</td>\n",
       "    </tr>\n",
       "    <tr>\n",
       "      <th>4</th>\n",
       "      <td>Channel 1</td>\n",
       "      <td>LOB 1</td>\n",
       "      <td>Product 170</td>\n",
       "      <td>Category 1</td>\n",
       "      <td>91702.0</td>\n",
       "      <td>946468.0</td>\n",
       "      <td>A</td>\n",
       "    </tr>\n",
       "  </tbody>\n",
       "</table>\n",
       "</div>"
      ],
      "text/plain": [
       "     Channel    LOB       Product    Category  Total Volume Eaches  \\\n",
       "0  Channel 1  LOB 1  Product 1621  Category 1             503197.0   \n",
       "1  Channel 1  LOB 1  Product 1433  Category 1             151222.0   \n",
       "2  Channel 1  LOB 1  Product 1440  Category 1             108458.0   \n",
       "3  Channel 1  LOB 1   Product 143  Category 1              91889.0   \n",
       "4  Channel 1  LOB 1   Product 170  Category 1              91702.0   \n",
       "\n",
       "   Sales Cumulative ABC  \n",
       "0          503197.0   A  \n",
       "1          654419.0   A  \n",
       "2          762877.0   A  \n",
       "3          854766.0   A  \n",
       "4          946468.0   A  "
      ]
     },
     "execution_count": 102,
     "metadata": {},
     "output_type": "execute_result"
    }
   ],
   "source": [
    "abc.head()"
   ]
  },
  {
   "cell_type": "code",
   "execution_count": 103,
   "metadata": {},
   "outputs": [],
   "source": [
    "abc.to_csv('abc.csv', index=False)"
   ]
  },
  {
   "cell_type": "markdown",
   "metadata": {},
   "source": [
    "### Aggregation of the Sales Generated for different Region/Categories for each ABC. Note the high values in the A Class and the low values in the C class"
   ]
  },
  {
   "cell_type": "code",
   "execution_count": 104,
   "metadata": {},
   "outputs": [
    {
     "data": {
      "text/html": [
       "<div>\n",
       "<style scoped>\n",
       "    .dataframe tbody tr th:only-of-type {\n",
       "        vertical-align: middle;\n",
       "    }\n",
       "\n",
       "    .dataframe tbody tr th {\n",
       "        vertical-align: top;\n",
       "    }\n",
       "\n",
       "    .dataframe thead th {\n",
       "        text-align: right;\n",
       "    }\n",
       "</style>\n",
       "<table border=\"1\" class=\"dataframe\">\n",
       "  <thead>\n",
       "    <tr style=\"text-align: right;\">\n",
       "      <th>ABC</th>\n",
       "      <th>Channel</th>\n",
       "      <th>LOB</th>\n",
       "      <th>Category</th>\n",
       "      <th>A</th>\n",
       "      <th>B</th>\n",
       "      <th>C</th>\n",
       "      <th>All</th>\n",
       "    </tr>\n",
       "  </thead>\n",
       "  <tbody>\n",
       "    <tr>\n",
       "      <th>0</th>\n",
       "      <td>Channel 1</td>\n",
       "      <td>LOB 1</td>\n",
       "      <td>Category 1</td>\n",
       "      <td>1516770.0</td>\n",
       "      <td>284879.0</td>\n",
       "      <td>96443.0</td>\n",
       "      <td>1898092.0</td>\n",
       "    </tr>\n",
       "    <tr>\n",
       "      <th>1</th>\n",
       "      <td>Channel 1</td>\n",
       "      <td>LOB 1</td>\n",
       "      <td>Category 2</td>\n",
       "      <td>113978.0</td>\n",
       "      <td>21410.0</td>\n",
       "      <td>7161.0</td>\n",
       "      <td>142549.0</td>\n",
       "    </tr>\n",
       "    <tr>\n",
       "      <th>2</th>\n",
       "      <td>Channel 1</td>\n",
       "      <td>LOB 1</td>\n",
       "      <td>Category 3</td>\n",
       "      <td>2296381.0</td>\n",
       "      <td>516960.0</td>\n",
       "      <td>149653.0</td>\n",
       "      <td>2962994.0</td>\n",
       "    </tr>\n",
       "    <tr>\n",
       "      <th>3</th>\n",
       "      <td>Channel 1</td>\n",
       "      <td>LOB 1</td>\n",
       "      <td>Category 4</td>\n",
       "      <td>1028.0</td>\n",
       "      <td>211.0</td>\n",
       "      <td>66.0</td>\n",
       "      <td>1305.0</td>\n",
       "    </tr>\n",
       "    <tr>\n",
       "      <th>4</th>\n",
       "      <td>Channel 1</td>\n",
       "      <td>LOB 2</td>\n",
       "      <td>Category 1</td>\n",
       "      <td>101975.0</td>\n",
       "      <td>19432.0</td>\n",
       "      <td>6490.0</td>\n",
       "      <td>127897.0</td>\n",
       "    </tr>\n",
       "    <tr>\n",
       "      <th>5</th>\n",
       "      <td>Channel 1</td>\n",
       "      <td>LOB 2</td>\n",
       "      <td>Category 2</td>\n",
       "      <td>202592.0</td>\n",
       "      <td>38173.0</td>\n",
       "      <td>12734.0</td>\n",
       "      <td>253499.0</td>\n",
       "    </tr>\n",
       "    <tr>\n",
       "      <th>6</th>\n",
       "      <td>Channel 1</td>\n",
       "      <td>LOB 2</td>\n",
       "      <td>Category 3</td>\n",
       "      <td>719074.0</td>\n",
       "      <td>148103.0</td>\n",
       "      <td>46682.0</td>\n",
       "      <td>913859.0</td>\n",
       "    </tr>\n",
       "    <tr>\n",
       "      <th>7</th>\n",
       "      <td>Channel 1</td>\n",
       "      <td>LOB 2</td>\n",
       "      <td>Category 4</td>\n",
       "      <td>12802.0</td>\n",
       "      <td>2622.0</td>\n",
       "      <td>833.0</td>\n",
       "      <td>16257.0</td>\n",
       "    </tr>\n",
       "  </tbody>\n",
       "</table>\n",
       "</div>"
      ],
      "text/plain": [
       "ABC    Channel    LOB    Category          A         B         C        All\n",
       "0    Channel 1  LOB 1  Category 1  1516770.0  284879.0   96443.0  1898092.0\n",
       "1    Channel 1  LOB 1  Category 2   113978.0   21410.0    7161.0   142549.0\n",
       "2    Channel 1  LOB 1  Category 3  2296381.0  516960.0  149653.0  2962994.0\n",
       "3    Channel 1  LOB 1  Category 4     1028.0     211.0      66.0     1305.0\n",
       "4    Channel 1  LOB 2  Category 1   101975.0   19432.0    6490.0   127897.0\n",
       "5    Channel 1  LOB 2  Category 2   202592.0   38173.0   12734.0   253499.0\n",
       "6    Channel 1  LOB 2  Category 3   719074.0  148103.0   46682.0   913859.0\n",
       "7    Channel 1  LOB 2  Category 4    12802.0    2622.0     833.0    16257.0"
      ]
     },
     "execution_count": 104,
     "metadata": {},
     "output_type": "execute_result"
    }
   ],
   "source": [
    "summaryvolume = abc.pivot_table(values='Total Volume Eaches', index=['Channel','LOB','Category'], columns='ABC', aggfunc='sum', margins='all').iloc[:-1]\n",
    "summaryvolume.reset_index(inplace = True)\n",
    "summaryvolume[summaryvolume['Channel']=='Channel 1']"
   ]
  },
  {
   "cell_type": "markdown",
   "metadata": {},
   "source": [
    "### The percenage of sales for the different class in each region and Category\n",
    "### e.g. Channel 1 / Category A=79.91% B=15.01% C=5.09% ~ 100% (Due to rounding off)"
   ]
  },
  {
   "cell_type": "code",
   "execution_count": 105,
   "metadata": {},
   "outputs": [
    {
     "data": {
      "text/html": [
       "<div>\n",
       "<style scoped>\n",
       "    .dataframe tbody tr th:only-of-type {\n",
       "        vertical-align: middle;\n",
       "    }\n",
       "\n",
       "    .dataframe tbody tr th {\n",
       "        vertical-align: top;\n",
       "    }\n",
       "\n",
       "    .dataframe thead th {\n",
       "        text-align: right;\n",
       "    }\n",
       "</style>\n",
       "<table border=\"1\" class=\"dataframe\">\n",
       "  <thead>\n",
       "    <tr style=\"text-align: right;\">\n",
       "      <th>ABC</th>\n",
       "      <th>Channel</th>\n",
       "      <th>LOB</th>\n",
       "      <th>Category</th>\n",
       "      <th>A</th>\n",
       "      <th>B</th>\n",
       "      <th>C</th>\n",
       "    </tr>\n",
       "  </thead>\n",
       "  <tbody>\n",
       "    <tr>\n",
       "      <th>0</th>\n",
       "      <td>Channel 1</td>\n",
       "      <td>LOB 1</td>\n",
       "      <td>Category 1</td>\n",
       "      <td>79.91</td>\n",
       "      <td>15.01</td>\n",
       "      <td>5.08</td>\n",
       "    </tr>\n",
       "    <tr>\n",
       "      <th>1</th>\n",
       "      <td>Channel 1</td>\n",
       "      <td>LOB 1</td>\n",
       "      <td>Category 2</td>\n",
       "      <td>79.96</td>\n",
       "      <td>15.02</td>\n",
       "      <td>5.02</td>\n",
       "    </tr>\n",
       "    <tr>\n",
       "      <th>2</th>\n",
       "      <td>Channel 1</td>\n",
       "      <td>LOB 1</td>\n",
       "      <td>Category 3</td>\n",
       "      <td>77.50</td>\n",
       "      <td>17.45</td>\n",
       "      <td>5.05</td>\n",
       "    </tr>\n",
       "    <tr>\n",
       "      <th>3</th>\n",
       "      <td>Channel 1</td>\n",
       "      <td>LOB 1</td>\n",
       "      <td>Category 4</td>\n",
       "      <td>78.77</td>\n",
       "      <td>16.17</td>\n",
       "      <td>5.06</td>\n",
       "    </tr>\n",
       "    <tr>\n",
       "      <th>4</th>\n",
       "      <td>Channel 1</td>\n",
       "      <td>LOB 2</td>\n",
       "      <td>Category 1</td>\n",
       "      <td>79.73</td>\n",
       "      <td>15.19</td>\n",
       "      <td>5.07</td>\n",
       "    </tr>\n",
       "    <tr>\n",
       "      <th>5</th>\n",
       "      <td>Channel 1</td>\n",
       "      <td>LOB 2</td>\n",
       "      <td>Category 2</td>\n",
       "      <td>79.92</td>\n",
       "      <td>15.06</td>\n",
       "      <td>5.02</td>\n",
       "    </tr>\n",
       "    <tr>\n",
       "      <th>6</th>\n",
       "      <td>Channel 1</td>\n",
       "      <td>LOB 2</td>\n",
       "      <td>Category 3</td>\n",
       "      <td>78.69</td>\n",
       "      <td>16.21</td>\n",
       "      <td>5.11</td>\n",
       "    </tr>\n",
       "    <tr>\n",
       "      <th>7</th>\n",
       "      <td>Channel 1</td>\n",
       "      <td>LOB 2</td>\n",
       "      <td>Category 4</td>\n",
       "      <td>78.75</td>\n",
       "      <td>16.13</td>\n",
       "      <td>5.12</td>\n",
       "    </tr>\n",
       "  </tbody>\n",
       "</table>\n",
       "</div>"
      ],
      "text/plain": [
       "ABC    Channel    LOB    Category      A      B     C\n",
       "0    Channel 1  LOB 1  Category 1  79.91  15.01  5.08\n",
       "1    Channel 1  LOB 1  Category 2  79.96  15.02  5.02\n",
       "2    Channel 1  LOB 1  Category 3  77.50  17.45  5.05\n",
       "3    Channel 1  LOB 1  Category 4  78.77  16.17  5.06\n",
       "4    Channel 1  LOB 2  Category 1  79.73  15.19  5.07\n",
       "5    Channel 1  LOB 2  Category 2  79.92  15.06  5.02\n",
       "6    Channel 1  LOB 2  Category 3  78.69  16.21  5.11\n",
       "7    Channel 1  LOB 2  Category 4  78.75  16.13  5.12"
      ]
     },
     "execution_count": 105,
     "metadata": {},
     "output_type": "execute_result"
    }
   ],
   "source": [
    "summarypercet = pd.crosstab(values=abc['Total Volume Eaches'], index=[abc.Channel,abc.LOB,abc.Category], columns=abc.ABC, aggfunc='sum',normalize='index').round(4)*100\n",
    "summarypercet.reset_index(inplace = True)\n",
    "summarypercet[summarypercet['Channel']=='Channel 1']"
   ]
  },
  {
   "cell_type": "markdown",
   "metadata": {},
   "source": [
    "### Now lets look at the distribution of the SKU's in each of the classifications\n",
    "Most of the time you can see that the numbers in B and C class are higher than A class"
   ]
  },
  {
   "cell_type": "code",
   "execution_count": 106,
   "metadata": {},
   "outputs": [
    {
     "data": {
      "text/html": [
       "<div>\n",
       "<style scoped>\n",
       "    .dataframe tbody tr th:only-of-type {\n",
       "        vertical-align: middle;\n",
       "    }\n",
       "\n",
       "    .dataframe tbody tr th {\n",
       "        vertical-align: top;\n",
       "    }\n",
       "\n",
       "    .dataframe thead th {\n",
       "        text-align: right;\n",
       "    }\n",
       "</style>\n",
       "<table border=\"1\" class=\"dataframe\">\n",
       "  <thead>\n",
       "    <tr style=\"text-align: right;\">\n",
       "      <th>ABC</th>\n",
       "      <th>Channel</th>\n",
       "      <th>LOB</th>\n",
       "      <th>Category</th>\n",
       "      <th>A</th>\n",
       "      <th>B</th>\n",
       "      <th>C</th>\n",
       "      <th>All</th>\n",
       "    </tr>\n",
       "  </thead>\n",
       "  <tbody>\n",
       "    <tr>\n",
       "      <th>0</th>\n",
       "      <td>Channel 1</td>\n",
       "      <td>LOB 1</td>\n",
       "      <td>Category 1</td>\n",
       "      <td>26</td>\n",
       "      <td>53</td>\n",
       "      <td>416</td>\n",
       "      <td>495</td>\n",
       "    </tr>\n",
       "    <tr>\n",
       "      <th>1</th>\n",
       "      <td>Channel 1</td>\n",
       "      <td>LOB 1</td>\n",
       "      <td>Category 2</td>\n",
       "      <td>141</td>\n",
       "      <td>176</td>\n",
       "      <td>448</td>\n",
       "      <td>765</td>\n",
       "    </tr>\n",
       "    <tr>\n",
       "      <th>2</th>\n",
       "      <td>Channel 1</td>\n",
       "      <td>LOB 1</td>\n",
       "      <td>Category 3</td>\n",
       "      <td>8</td>\n",
       "      <td>17</td>\n",
       "      <td>77</td>\n",
       "      <td>102</td>\n",
       "    </tr>\n",
       "    <tr>\n",
       "      <th>3</th>\n",
       "      <td>Channel 1</td>\n",
       "      <td>LOB 1</td>\n",
       "      <td>Category 4</td>\n",
       "      <td>9</td>\n",
       "      <td>12</td>\n",
       "      <td>20</td>\n",
       "      <td>41</td>\n",
       "    </tr>\n",
       "    <tr>\n",
       "      <th>4</th>\n",
       "      <td>Channel 1</td>\n",
       "      <td>LOB 2</td>\n",
       "      <td>Category 1</td>\n",
       "      <td>32</td>\n",
       "      <td>47</td>\n",
       "      <td>269</td>\n",
       "      <td>348</td>\n",
       "    </tr>\n",
       "    <tr>\n",
       "      <th>5</th>\n",
       "      <td>Channel 1</td>\n",
       "      <td>LOB 2</td>\n",
       "      <td>Category 2</td>\n",
       "      <td>120</td>\n",
       "      <td>186</td>\n",
       "      <td>703</td>\n",
       "      <td>1009</td>\n",
       "    </tr>\n",
       "    <tr>\n",
       "      <th>6</th>\n",
       "      <td>Channel 1</td>\n",
       "      <td>LOB 2</td>\n",
       "      <td>Category 3</td>\n",
       "      <td>7</td>\n",
       "      <td>30</td>\n",
       "      <td>72</td>\n",
       "      <td>109</td>\n",
       "    </tr>\n",
       "    <tr>\n",
       "      <th>7</th>\n",
       "      <td>Channel 1</td>\n",
       "      <td>LOB 2</td>\n",
       "      <td>Category 4</td>\n",
       "      <td>4</td>\n",
       "      <td>9</td>\n",
       "      <td>46</td>\n",
       "      <td>59</td>\n",
       "    </tr>\n",
       "  </tbody>\n",
       "</table>\n",
       "</div>"
      ],
      "text/plain": [
       "ABC    Channel    LOB    Category    A    B    C   All\n",
       "0    Channel 1  LOB 1  Category 1   26   53  416   495\n",
       "1    Channel 1  LOB 1  Category 2  141  176  448   765\n",
       "2    Channel 1  LOB 1  Category 3    8   17   77   102\n",
       "3    Channel 1  LOB 1  Category 4    9   12   20    41\n",
       "4    Channel 1  LOB 2  Category 1   32   47  269   348\n",
       "5    Channel 1  LOB 2  Category 2  120  186  703  1009\n",
       "6    Channel 1  LOB 2  Category 3    7   30   72   109\n",
       "7    Channel 1  LOB 2  Category 4    4    9   46    59"
      ]
     },
     "execution_count": 106,
     "metadata": {},
     "output_type": "execute_result"
    }
   ],
   "source": [
    "summerycount = abc.pivot_table(values='Total Volume Eaches', index=['Channel','LOB','Category'], columns='ABC', aggfunc='count', margins='all').iloc[:-1]\n",
    "summerycount.reset_index(inplace = True)\n",
    "summerycount[summerycount['Channel']=='Channel 1']"
   ]
  },
  {
   "cell_type": "markdown",
   "metadata": {},
   "source": [
    "### Looking at the % spread of the SKU's "
   ]
  },
  {
   "cell_type": "code",
   "execution_count": 107,
   "metadata": {},
   "outputs": [
    {
     "data": {
      "text/html": [
       "<div>\n",
       "<style scoped>\n",
       "    .dataframe tbody tr th:only-of-type {\n",
       "        vertical-align: middle;\n",
       "    }\n",
       "\n",
       "    .dataframe tbody tr th {\n",
       "        vertical-align: top;\n",
       "    }\n",
       "\n",
       "    .dataframe thead th {\n",
       "        text-align: right;\n",
       "    }\n",
       "</style>\n",
       "<table border=\"1\" class=\"dataframe\">\n",
       "  <thead>\n",
       "    <tr style=\"text-align: right;\">\n",
       "      <th>ABC</th>\n",
       "      <th>Channel</th>\n",
       "      <th>LOB</th>\n",
       "      <th>Category</th>\n",
       "      <th>A</th>\n",
       "      <th>B</th>\n",
       "      <th>C</th>\n",
       "    </tr>\n",
       "  </thead>\n",
       "  <tbody>\n",
       "    <tr>\n",
       "      <th>0</th>\n",
       "      <td>Channel 1</td>\n",
       "      <td>LOB 1</td>\n",
       "      <td>Category 1</td>\n",
       "      <td>0.052525</td>\n",
       "      <td>0.107071</td>\n",
       "      <td>0.840404</td>\n",
       "    </tr>\n",
       "    <tr>\n",
       "      <th>1</th>\n",
       "      <td>Channel 1</td>\n",
       "      <td>LOB 1</td>\n",
       "      <td>Category 2</td>\n",
       "      <td>0.184314</td>\n",
       "      <td>0.230065</td>\n",
       "      <td>0.585621</td>\n",
       "    </tr>\n",
       "    <tr>\n",
       "      <th>2</th>\n",
       "      <td>Channel 1</td>\n",
       "      <td>LOB 1</td>\n",
       "      <td>Category 3</td>\n",
       "      <td>0.078431</td>\n",
       "      <td>0.166667</td>\n",
       "      <td>0.754902</td>\n",
       "    </tr>\n",
       "    <tr>\n",
       "      <th>3</th>\n",
       "      <td>Channel 1</td>\n",
       "      <td>LOB 1</td>\n",
       "      <td>Category 4</td>\n",
       "      <td>0.219512</td>\n",
       "      <td>0.292683</td>\n",
       "      <td>0.487805</td>\n",
       "    </tr>\n",
       "    <tr>\n",
       "      <th>4</th>\n",
       "      <td>Channel 1</td>\n",
       "      <td>LOB 2</td>\n",
       "      <td>Category 1</td>\n",
       "      <td>0.091954</td>\n",
       "      <td>0.135057</td>\n",
       "      <td>0.772989</td>\n",
       "    </tr>\n",
       "    <tr>\n",
       "      <th>5</th>\n",
       "      <td>Channel 1</td>\n",
       "      <td>LOB 2</td>\n",
       "      <td>Category 2</td>\n",
       "      <td>0.118930</td>\n",
       "      <td>0.184341</td>\n",
       "      <td>0.696729</td>\n",
       "    </tr>\n",
       "    <tr>\n",
       "      <th>6</th>\n",
       "      <td>Channel 1</td>\n",
       "      <td>LOB 2</td>\n",
       "      <td>Category 3</td>\n",
       "      <td>0.064220</td>\n",
       "      <td>0.275229</td>\n",
       "      <td>0.660550</td>\n",
       "    </tr>\n",
       "    <tr>\n",
       "      <th>7</th>\n",
       "      <td>Channel 1</td>\n",
       "      <td>LOB 2</td>\n",
       "      <td>Category 4</td>\n",
       "      <td>0.067797</td>\n",
       "      <td>0.152542</td>\n",
       "      <td>0.779661</td>\n",
       "    </tr>\n",
       "  </tbody>\n",
       "</table>\n",
       "</div>"
      ],
      "text/plain": [
       "ABC    Channel    LOB    Category         A         B         C\n",
       "0    Channel 1  LOB 1  Category 1  0.052525  0.107071  0.840404\n",
       "1    Channel 1  LOB 1  Category 2  0.184314  0.230065  0.585621\n",
       "2    Channel 1  LOB 1  Category 3  0.078431  0.166667  0.754902\n",
       "3    Channel 1  LOB 1  Category 4  0.219512  0.292683  0.487805\n",
       "4    Channel 1  LOB 2  Category 1  0.091954  0.135057  0.772989\n",
       "5    Channel 1  LOB 2  Category 2  0.118930  0.184341  0.696729\n",
       "6    Channel 1  LOB 2  Category 3  0.064220  0.275229  0.660550\n",
       "7    Channel 1  LOB 2  Category 4  0.067797  0.152542  0.779661"
      ]
     },
     "execution_count": 107,
     "metadata": {},
     "output_type": "execute_result"
    }
   ],
   "source": [
    "summerycountpercent = pd.crosstab(values=abc['Total Volume Eaches'], index=[abc.Channel,abc.LOB,abc.Category], columns=abc.ABC, aggfunc='count',normalize='index')\n",
    "summerycountpercent.reset_index(inplace = True)\n",
    "summerycountpercent[summerycountpercent['Channel']=='Channel 1']"
   ]
  },
  {
   "cell_type": "code",
   "execution_count": 108,
   "metadata": {},
   "outputs": [],
   "source": [
    "### Plotting the ABC classification\n",
    "plt.rcParams['figure.figsize']=16,6"
   ]
  },
  {
   "cell_type": "markdown",
   "metadata": {},
   "source": [
    "> From the below plots we can see that the A class items drives the majority of the sales for the company and it has comparitatively lower number of SKU's associated with it. Hence manging them better is of utmost importance."
   ]
  },
  {
   "cell_type": "code",
   "execution_count": 109,
   "metadata": {},
   "outputs": [
    {
     "data": {
      "text/plain": [
       "Text(0.5, 1.0, 'Category 4')"
      ]
     },
     "execution_count": 109,
     "metadata": {},
     "output_type": "execute_result"
    },
    {
     "data": {
      "image/png": "[encoded data removed]",
      "text/plain": [
       "<Figure size 1152x432 with 4 Axes>"
      ]
     },
     "metadata": {
      "needs_background": "light"
     },
     "output_type": "display_data"
    }
   ],
   "source": [
    "#abc\n",
    "fig, axs = plt.subplots(ncols=4)\n",
    "subset = (abc['Channel'] == 'Channel 1') & (abc['LOB'] == 'LOB 1') & (abc['Category']=='Category 1')\n",
    "sns.barplot(data = abc[subset],x = 'ABC',y = 'Total Volume Eaches',ax=axs[0])\n",
    "axs[0].set_title('Category 1')\n",
    "subset = (abc['Channel'] == 'Channel 1') & (abc['LOB'] == 'LOB 1') & (abc['Category']=='Category 2')\n",
    "sns.barplot(data = abc[subset],x = 'ABC',y = 'Total Volume Eaches',ax=axs[1])\n",
    "axs[1].set_title('Category 2')\n",
    "subset = (abc['Channel'] == 'Channel 1') & (abc['LOB'] == 'LOB 1') & (abc['Category']=='Category 3')\n",
    "sns.barplot(data = abc[subset],x = 'ABC',y = 'Total Volume Eaches',ax=axs[2])\n",
    "axs[2].set_title('Category 3')\n",
    "subset = (abc['Channel'] == 'Channel 1') & (abc['LOB'] == 'LOB 1') & (abc['Category']=='Category 4')\n",
    "sns.barplot(data = abc[subset],x = 'ABC',y = 'Total Volume Eaches',ax=axs[3])\n",
    "axs[3].set_title('Category 4')"
   ]
  },
  {
   "cell_type": "code",
   "execution_count": 110,
   "metadata": {},
   "outputs": [
    {
     "data": {
      "image/png": "[encoded data removed]",
      "text/plain": [
       "<Figure size 1152x432 with 4 Axes>"
      ]
     },
     "metadata": {
      "needs_background": "light"
     },
     "output_type": "display_data"
    }
   ],
   "source": [
    "#abc\n",
    "fig, axs = plt.subplots(ncols=4)\n",
    "subset = (abc['Channel'] == 'Channel 1') & (abc['LOB'] == 'LOB 1') & (abc['Category']=='Category 1')\n",
    "sns.countplot(data = abc[subset],x = 'ABC',ax=axs[0])\n",
    "axs[0].set_title('Category 1')\n",
    "subset = (abc['Channel'] == 'Channel 1') & (abc['LOB'] == 'LOB 1') & (abc['Category']=='Category 2')\n",
    "sns.countplot(data = abc[subset],x = 'ABC',ax=axs[1])\n",
    "axs[1].set_title('Category 2')\n",
    "subset = (abc['Channel'] == 'Channel 1') & (abc['LOB'] == 'LOB 1') & (abc['Category']=='Category 3')\n",
    "sns.countplot(data = abc[subset],x = 'ABC',ax=axs[2])\n",
    "axs[2].set_title('Category 3')\n",
    "subset = (abc['Channel'] == 'Channel 1') & (abc['LOB'] == 'LOB 1') & (abc['Category']=='Category 4')\n",
    "sns.countplot(data = abc[subset],x = 'ABC',ax=axs[3])\n",
    "axs[3].set_title('Category 4');"
   ]
  },
  {
   "cell_type": "markdown",
   "metadata": {},
   "source": [
    ">  A single ABC categorization provides a snapshot based on a single parameter, for example turnover. It is not enough to evaluate a product, take this example: Two products can have the same turnover, but act very differently.\n",
    "\n",
    "\n"
   ]
  },
  {
   "cell_type": "markdown",
   "metadata": {},
   "source": [
    "> To get a better overview, you need to evaluate a product on at least 2 parameters: Ordering variation and turnover. You do this by making two single ABC categorizations which you combine. Then you have a double ABC categorization."
   ]
  },
  {
   "cell_type": "markdown",
   "metadata": {},
   "source": [
    "> This is done by calculating the coefficient of variation of the ordering of the SKU. e.g. consider two similar A class item with one periodically ordered every month and the other have sporadic ordering patterns. In such cases extra effort and time needs to be deicated to the sporadic SKU since the stable SKU's is more predictable. In terms of C Class SKU we need to look into if we really need such sporadic demand SKU's"
   ]
  },
  {
   "cell_type": "code",
   "execution_count": null,
   "metadata": {},
   "outputs": [],
   "source": []
  }
 ],
 "metadata": {
  "kernelspec": {
   "display_name": "Python 3",
   "language": "python",
   "name": "python3"
  },
  "language_info": {
   "codemirror_mode": {
    "name": "ipython",
    "version": 3
   },
   "file_extension": ".py",
   "mimetype": "text/x-python",
   "name": "python",
   "nbconvert_exporter": "python",
   "pygments_lexer": "ipython3",
   "version": "3.7.4"
  },
  "varInspector": {
   "cols": {
    "lenName": 16,
    "lenType": 16,
    "lenVar": 40
   },
   "kernels_config": {
    "python": {
     "delete_cmd_postfix": "",
     "delete_cmd_prefix": "del ",
     "library": "var_list.py",
     "varRefreshCmd": "print(var_dic_list())"
    },
    "r": {
     "delete_cmd_postfix": ") ",
     "delete_cmd_prefix": "rm(",
     "library": "var_list.r",
     "varRefreshCmd": "cat(var_dic_list()) "
    }
   },
   "types_to_exclude": [
    "module",
    "function",
    "builtin_function_or_method",
    "instance",
    "_Feature"
   ],
   "window_display": false
  }
 },
 "nbformat": 4,
 "nbformat_minor": 4
}
